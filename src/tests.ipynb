{
 "cells": [
  {
   "cell_type": "code",
   "execution_count": 11,
   "metadata": {},
   "outputs": [
    {
     "name": "stdout",
     "output_type": "stream",
     "text": [
      "tensor([[False, False, False,  True,  True],\n",
      "        [False,  True,  True,  True,  True],\n",
      "        [False,  True,  True,  True,  True]])\n",
      "tensor([[False, False, False, False,  True],\n",
      "        [False, False,  True, False, False],\n",
      "        [False, False, False, False, False]])\n"
     ]
    }
   ],
   "source": [
    "import torch\n",
    "\n",
    "tensor = torch.tensor([\n",
    "    [False, False, True, False, True],\n",
    "    [True, False, True, False, False],\n",
    "    [False, False, False, False, False]\n",
    "], dtype=torch.bool)\n",
    "\n",
    "first_true_indices = tensor.int().argmax(dim=1)\n",
    "\n",
    "cols = torch.arange(tensor.size(1))\n",
    "mask = cols.unsqueeze(0) > first_true_indices.unsqueeze(1)\n",
    "print(mask)"
   ]
  }
 ],
 "metadata": {
  "kernelspec": {
   "display_name": "base",
   "language": "python",
   "name": "python3"
  },
  "language_info": {
   "codemirror_mode": {
    "name": "ipython",
    "version": 3
   },
   "file_extension": ".py",
   "mimetype": "text/x-python",
   "name": "python",
   "nbconvert_exporter": "python",
   "pygments_lexer": "ipython3",
   "version": "3.12.4"
  }
 },
 "nbformat": 4,
 "nbformat_minor": 2
}
